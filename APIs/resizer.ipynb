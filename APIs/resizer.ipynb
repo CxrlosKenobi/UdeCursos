{
 "cells": [
  {
   "cell_type": "code",
   "execution_count": 2,
   "metadata": {},
   "outputs": [],
   "source": [
    "from PyPDF2 import PdfFileReader, PdfFileWriter"
   ]
  },
  {
   "cell_type": "code",
   "execution_count": 41,
   "metadata": {},
   "outputs": [],
   "source": [
    "filename = \"Horario_2022-1_v01.pdf\"\n",
    "input1 = PdfFileReader(open(filename, \"rb\"))\n",
    "output = PdfFileWriter()\n",
    "\n",
    "for i in range(1, 3):\n",
    "  pageObj = input1.getPage(i)\n",
    "  pageObj.mediaBox.upperRight = (pageObj.mediaBox.getLowerRight_x(), pageObj.mediaBox.getUpperRight_y() - 45)\n",
    "  pageObj.mediaBox.lowerRight = (pageObj.mediaBox.getLowerRight_x(), pageObj.mediaBox.getLowerRight_y() + 45)\n",
    "\n",
    "  pageObj.mediaBox.lowerLeft = (pageObj.mediaBox.getLowerLeft_x() + 57, pageObj.mediaBox.getLowerLeft_y())\n",
    "  # pageObj.mediaBox.upperLeft = (pageObj.mediaBox.getUpperLeft_x() - 57, pageObj.mediaBox.getUpperLeft_y())\n",
    "\n",
    "  output.addPage(pageObj)"
   ]
  },
  {
   "cell_type": "code",
   "execution_count": 42,
   "metadata": {},
   "outputs": [],
   "source": [
    "with open(\"Test.pdf\", \"wb\") as file:\n",
    "  output.write(file)"
   ]
  },
  {
   "cell_type": "code",
   "execution_count": null,
   "metadata": {},
   "outputs": [],
   "source": []
  },
  {
   "cell_type": "code",
   "execution_count": 22,
   "metadata": {},
   "outputs": [],
   "source": []
  }
 ],
 "metadata": {
  "interpreter": {
   "hash": "31f2aee4e71d21fbe5cf8b01ff0e069b9275f58929596ceb00d14d90e3e16cd6"
  },
  "kernelspec": {
   "display_name": "Python 3.8.10 64-bit",
   "language": "python",
   "name": "python3"
  },
  "language_info": {
   "codemirror_mode": {
    "name": "ipython",
    "version": 3
   },
   "file_extension": ".py",
   "mimetype": "text/x-python",
   "name": "python",
   "nbconvert_exporter": "python",
   "pygments_lexer": "ipython3",
   "version": "3.8.10"
  },
  "orig_nbformat": 4
 },
 "nbformat": 4,
 "nbformat_minor": 2
}
